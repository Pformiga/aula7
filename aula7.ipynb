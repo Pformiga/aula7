{
 "cells": [
  {
   "cell_type": "markdown",
   "metadata": {},
   "source": [
    "# Laço de Repetição"
   ]
  },
  {
   "cell_type": "code",
   "execution_count": 12,
   "metadata": {},
   "outputs": [
    {
     "name": "stdout",
     "output_type": "stream",
     "text": [
      "Você está abaixo do peso. IMC:  24.355421180818006\n"
     ]
    }
   ],
   "source": [
    "while True:\n",
    "        nome = input(\"Digite seu nome (aperte enter para sair)\")\n",
    "\n",
    "        if nome != '':\n",
    "                peso = input(\"Digite seu PESO para o Calculo do IMC: (peso em KG)\").replace(\",\",\".\")\n",
    "                altura = input(\"Digite a sua altura SEM A VIRGULA (Altura em cm): \").replace(\",\",\".\")\n",
    "                peso = float (peso)\n",
    "                altura = float (altura)\n",
    "                imc =   peso / (altura)**2\n",
    "                if imc > 40:\n",
    "                        print(\"Você está com grau de obesidade II. IMC: \", imc) \n",
    "                elif imc > 35:\n",
    "                        print(\"Você está com grau de obesidade I. IMC: \",imc) \n",
    "                elif imc > 30:\n",
    "                        print(\"Você está acima do peso. IMC: \",imc) \n",
    "                elif imc > 25:\n",
    "                        print(\"Você está no peso ideal. IMC: \",imc) \n",
    "                elif imc > 18.5:\n",
    "                        print(\"Você está abaixo do peso. IMC: \",imc) \n",
    "                elif imc > 17:\n",
    "                        print(\"Você está com anorexia. IMC: \",imc) \n",
    "                else:\n",
    "                        print(\"Você está com grau de obesidade mórbida. IMC: \",imc)\n",
    "                continue\n",
    "        else:\n",
    "                break"
   ]
  },
  {
   "cell_type": "markdown",
   "metadata": {},
   "source": [
    "## BOMBA"
   ]
  },
  {
   "cell_type": "code",
   "execution_count": 11,
   "metadata": {},
   "outputs": [
    {
     "name": "stdout",
     "output_type": "stream",
     "text": [
      "Contagem regressiva: 10...\n",
      "Contagem regressiva: 9...\n",
      "Contagem regressiva: 8...\n",
      "Contagem regressiva: 7...\n",
      "Contagem regressiva: 6...\n",
      "Contagem regressiva: 5...\n",
      "Contagem regressiva: 4...\n",
      "Contagem regressiva: 3...\n",
      "Contagem regressiva: 2...\n",
      "Contagem regressiva: 1...\n",
      "Contagem regressiva: 0...\n",
      "BOOOOOOOOOMMMMMMMM!!!\n"
     ]
    }
   ],
   "source": [
    "import os\n",
    "import time\n",
    "\n",
    "cont = int(input(\"Digite um numero inteiro: \"))\n",
    "\n",
    "while cont >= 0:\n",
    "    os.system('cls')\n",
    "    print(f'Contagem regressiva: {cont}...')\n",
    "    time. sleep (1)\n",
    "    cont -=1\n",
    "\n",
    "    os.system('cls')\n",
    "print('BOOOOOOOOOMMMMMMMM!!!')    \n",
    "        "
   ]
  },
  {
   "cell_type": "markdown",
   "metadata": {},
   "source": [
    "# Cine Python"
   ]
  },
  {
   "cell_type": "code",
   "execution_count": 20,
   "metadata": {},
   "outputs": [
    {
     "name": "stdout",
     "output_type": "stream",
     "text": [
      "SALA 1: Python o retorno 3 (+16)\n",
      "SALA 2: Duetos 2 (L)\n",
      "SALA 3: Um Programador Feliz (+18)\n",
      "SALA 4: Man Jupyter (12)\n",
      "SALA 5: Show de Dados (L)\n",
      "CINEMARK\n",
      "------------------------------ INGRESSO ------------------------------\n",
      "FILME:  Duetos 2 (+12) \n",
      "SALA:  3\n",
      "NOME:  Pedro Jeronimo\n",
      "ASSENTO: A SUA ESCOLHA\n",
      "----------------------------------------------------------------------\n"
     ]
    }
   ],
   "source": [
    "import os\n",
    "import time\n",
    "while True:   \n",
    "    os.system(\"cls\")\n",
    "    nome= input(\"Digite seu nome: \")\n",
    "    if nome != \"\":\n",
    "\n",
    "        idade = int(input(\"Digite sua idade: \"))\n",
    "        print(\"SALA 1: Python o retorno 3 (+16)\")\n",
    "        print(\"SALA 2: Duetos 2 (L)\")\n",
    "        print(\"SALA 3: Um Programador Feliz (+18)\")\n",
    "        print(\"SALA 4: Man Jupyter (12)\")\n",
    "        print(\"SALA 5: Show de Dados (L)\")\n",
    "        sala = int(input(\"Digite a sala que deseja assistir: \"))\n",
    "\n",
    "        if sala == 1 and idade >= 18:\n",
    "            print(\"CINEMARK\")\n",
    "            print(30*\"-\",\"INGRESSO\",30*\"-\")\n",
    "            print(\"FILME: Python o retorno 3 (+18) \")\n",
    "            print(\"SALA: \",sala)\n",
    "            print(\"NOME: \",nome)\n",
    "            print(\"ASSENTO: A SUA ESCOLHA\")\n",
    "            print(70*\"-\")\n",
    "            break\n",
    "        elif sala == 2 and idade >= 16:\n",
    "            print(\"CINEMARK\")\n",
    "            print(30*\"-\",\"INGRESSO\",30*\"-\")\n",
    "            print(\"FILME: Show de Dados (+16) \")\n",
    "            print(\"SALA: \",sala)\n",
    "            print(\"NOME: \",nome)\n",
    "            print(\"ASSENTO: A SUA ESCOLHA\")\n",
    "            print(70*\"-\")\n",
    "            break\n",
    "        elif sala == 3 and idade >= 12:\n",
    "            print(\"CINEMARK\")\n",
    "            print(30*\"-\",\"INGRESSO\",30*\"-\")\n",
    "            print(\"FILME:  Duetos 2 (+12) \")\n",
    "            print(\"SALA: \",sala)\n",
    "            print(\"NOME: \",nome)\n",
    "            print(\"ASSENTO: A SUA ESCOLHA\")\n",
    "            print(70*\"-\")\n",
    "            break \n",
    "        elif sala == 4 and idade > 0:\n",
    "            print(\"CINEMARK\")\n",
    "            print(30*\"-\",\"INGRESSO\",30*\"-\")\n",
    "            print(\"FILME:  Um Programador Feliz (L) \")\n",
    "            print(\"SALA: \",sala)\n",
    "            print(\"NOME: \",nome)\n",
    "            print(\"ASSENTO: A SUA ESCOLHA\")\n",
    "            print(70*\"-\")\n",
    "            break \n",
    "        elif sala == 5 and idade > 0:\n",
    "            print(\"CINEMARK\")\n",
    "            print(30*\"-\",\"INGRESSO\",30*\"-\")\n",
    "            print(\"FILME: Man Jupyter (L) \")\n",
    "            print(\"SALA: \",sala)\n",
    "            print(\"NOME: \",nome)\n",
    "            print(\"ASSENTO: A SUA ESCOLHA\")\n",
    "            print(70*\"-\")\n",
    "            break \n",
    "        else:\n",
    "            os.system(\"cls\")\n",
    "            print(\"Sua idade não permite ver esse filme \")\n",
    "            print(\"Escolha outro filme\")\n",
    "            time.sleep(3)\n",
    "        continue\n",
    "    else:\n",
    "        os.system(\"cls\")\n",
    "        print(\"Até mais \")\n",
    "        time.sleep(3)\n",
    "        break"
   ]
  }
 ],
 "metadata": {
  "kernelspec": {
   "display_name": ".venv",
   "language": "python",
   "name": "python3"
  },
  "language_info": {
   "codemirror_mode": {
    "name": "ipython",
    "version": 3
   },
   "file_extension": ".py",
   "mimetype": "text/x-python",
   "name": "python",
   "nbconvert_exporter": "python",
   "pygments_lexer": "ipython3",
   "version": "3.12.4"
  }
 },
 "nbformat": 4,
 "nbformat_minor": 2
}
