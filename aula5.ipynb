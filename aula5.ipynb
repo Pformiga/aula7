{
 "cells": [
  {
   "cell_type": "markdown",
   "metadata": {},
   "source": [
    "# Desafio Impar ou Par"
   ]
  },
  {
   "cell_type": "code",
   "execution_count": 8,
   "metadata": {},
   "outputs": [
    {
     "name": "stdout",
     "output_type": "stream",
     "text": [
      "---------- VERIFICA SE PAR OU IMPAR ----------\n",
      "o numero é IMPAR\n"
     ]
    }
   ],
   "source": [
    "print(10*\"-\",\"VERIFICA SE PAR OU IMPAR\",10*\"-\")\n",
    "num = int(input(\"Digite o numero para saber se é par ou impar\"))\n",
    "# verificar o resto da divisão é igual a 0\n",
    "resto = num % 2\n",
    "if resto == 0:\n",
    "    print(\"O numero é PAR\")\n",
    "else:\n",
    "    print(\"o numero é IMPAR\")"
   ]
  },
  {
   "cell_type": "markdown",
   "metadata": {},
   "source": [
    "# Desafio 2\n",
    " - Carga "
   ]
  },
  {
   "cell_type": "code",
   "execution_count": 9,
   "metadata": {},
   "outputs": [
    {
     "name": "stdout",
     "output_type": "stream",
     "text": [
      "---------- VERIFICAÇÃO DE PESO ----------\n",
      "O PESO ESTÁ NO LIMITE\n"
     ]
    }
   ],
   "source": [
    "print(10*\"-\",\"VERIFICAÇÃO DE PESO\",10*\"-\")\n",
    "peso1 = input(\"Digete o peso da pessoa\")\n",
    "peso2 = input(\"Digete o peso da carga\")\n",
    "peso1 = int(peso1)\n",
    "peso2 = int(peso2)\n",
    "pesoTotal = peso1+peso2\n",
    "if pesoTotal <= 250:\n",
    "    print(\"O PESO ESTÁ NO LIMITE\") \n",
    "else:\n",
    "    print(\"O PESO NÃO ESTA NO LIMITE\")"
   ]
  },
  {
   "cell_type": "markdown",
   "metadata": {},
   "source": [
    "# Desafio 3"
   ]
  },
  {
   "cell_type": "code",
   "execution_count": 10,
   "metadata": {},
   "outputs": [
    {
     "name": "stdout",
     "output_type": "stream",
     "text": [
      "NOME DO ALUNO:  Pedro Jeronimo\n",
      "IDADE:  37\n",
      "CPF:  652147\n",
      "------------------------------ BOLETIM ESCOLAR ------------------------------\n",
      "APROVADO\n",
      "NOTA PRIMEIRO BIMESTRE 8.0\n",
      "NOTA SEGUNDO BIMESTRE 9.0\n",
      "NOTA TERCEIRO BIMESTRE 10.0\n",
      "NOTA QUARTO BIMESTRE 6.0\n",
      "MEDIA:  8.25\n",
      "-----------------------------------------------------------------------------\n"
     ]
    }
   ],
   "source": [
    "nome  = input(\"Digite o nome do aluno \")\n",
    "idade  = input(\"Digite o idade do aluno \")\n",
    "cpf  = input(\"Digite o cpf do aluno \")\n",
    "idade = int(idade)\n",
    "\n",
    "nota1 = float(input(\"Digite a nota do primeiro bimestre aluno\"))\n",
    "nota2 = float(input(\"Digite a nota do segundo bimestre aluno\"))\n",
    "nota3 = float(input(\"Digite a nota do terceiro bimestre aluno\"))\n",
    "nota4 = float(input(\"Digite a nota do quarto bimestre aluno\"))\n",
    "media = ((nota1+nota2+nota3+nota4) /4)\n",
    "\n",
    "print(\"NOME DO ALUNO: \",nome)\n",
    "print(\"IDADE: \",idade)\n",
    "print(\"CPF: \",cpf)\n",
    "if idade < 18:\n",
    "    print(\"SOMENTE OS PAIS PODEM PEGAR O BOLETIM\")\n",
    "elif media >=7:\n",
    "    print(30*\"-\",\"BOLETIM ESCOLAR\",30*\"-\")\n",
    "    print(\"APROVADO\")\n",
    "    print(\"NOTA PRIMEIRO BIMESTRE\",nota1)\n",
    "    print(\"NOTA SEGUNDO BIMESTRE\",nota2)\n",
    "    print(\"NOTA TERCEIRO BIMESTRE\",nota3)\n",
    "    print(\"NOTA QUARTO BIMESTRE\",nota4)\n",
    "    print(\"MEDIA: \",media)\n",
    "elif media >=5:\n",
    "    print(30*\"-\",\"BOLETIM ESCOLAR\",30*\"-\")\n",
    "    print(\"RECUPERAÇÃO\")\n",
    "    print(\"NOTA PRIMEIRO BIMESTRE\",nota1)\n",
    "    print(\"NOTA SEGUNDO BIMESTRE\",nota2)\n",
    "    print(\"NOTA TERCEIRO BIMESTRE\",nota3)\n",
    "    print(\"NOTA QUARTO BIMESTRE\",nota4)\n",
    "    print(\"MEDIA: \",media)\n",
    "elif media <= 5:\n",
    "    print(30*\"-\",\"BOLETIM ESCOLAR\",30*\"-\")\n",
    "    print(\"REPROVADO\")\n",
    "    print(\"NOTA PRIMEIRO BIMESTRE\",nota1)\n",
    "    print(\"NOTA SEGUNDO BIMESTRE\",nota2)\n",
    "    print(\"NOTA TERCEIRO BIMESTRE\",nota3)\n",
    "    print(\"NOTA QUARTO BIMESTRE\",nota4)\n",
    "    print(\"MEDIA: \",media)\n",
    "print(77*\"-\")"
   ]
  },
  {
   "cell_type": "markdown",
   "metadata": {},
   "source": [
    "# Operador Ternário\n",
    "\n",
    " - Usar operador ternário quando as alternativas forem pequenas, e quando tiver apenas 2 ou mo máximo 3\n",
    "   alternativas.\n",
    " - No exemplo a variável precisa ser inteira.  "
   ]
  },
  {
   "cell_type": "code",
   "execution_count": 1,
   "metadata": {},
   "outputs": [
    {
     "name": "stdout",
     "output_type": "stream",
     "text": [
      "Pedro é maior de idade.\n"
     ]
    }
   ],
   "source": [
    "nome = \"Pedro\"\n",
    "idade = 24\n",
    "\n",
    "print(nome,\"é maior de idade.\"if idade >=18 else \"é menor de idade\")"
   ]
  }
 ],
 "metadata": {
  "kernelspec": {
   "display_name": ".venv",
   "language": "python",
   "name": "python3"
  },
  "language_info": {
   "codemirror_mode": {
    "name": "ipython",
    "version": 3
   },
   "file_extension": ".py",
   "mimetype": "text/x-python",
   "name": "python",
   "nbconvert_exporter": "python",
   "pygments_lexer": "ipython3",
   "version": "3.12.4"
  }
 },
 "nbformat": 4,
 "nbformat_minor": 2
}
