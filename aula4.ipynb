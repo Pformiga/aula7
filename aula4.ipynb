{
 "cells": [
  {
   "cell_type": "code",
   "execution_count": null,
   "metadata": {},
   "outputs": [],
   "source": []
  },
  {
   "cell_type": "markdown",
   "metadata": {},
   "source": [
    "## Revisão Aula Python\n",
    "\n",
    "- teste 1\n",
    "   - teste 2\n",
    "      - teste 3"
   ]
  },
  {
   "cell_type": "markdown",
   "metadata": {},
   "source": [
    "## Declarando Variáveis"
   ]
  },
  {
   "cell_type": "code",
   "execution_count": 6,
   "metadata": {},
   "outputs": [
    {
     "name": "stdout",
     "output_type": "stream",
     "text": [
      "Pedro Jeronimo <class 'str'>\n",
      "<class 'int'>\n",
      "<class 'float'>\n",
      "<class 'bool'>\n"
     ]
    }
   ],
   "source": [
    "nome = 'Pedro Jeronimo' #string\n",
    "idade = 37 # inteiro\n",
    "peso = 85 # float\n",
    "altura = 1.89 # float\n",
    "instrutor = True # boolean\n",
    "\n",
    "print(nome, type(nome))\n",
    "\n",
    "print(type(idade))\n",
    "print(type(altura))\n",
    "print(type(instrutor))"
   ]
  },
  {
   "cell_type": "markdown",
   "metadata": {},
   "source": [
    "\n",
    "\n",
    "\n",
    "\n",
    "\n",
    "\n",
    "\n",
    "\n",
    "\n",
    "\n",
    "- Crie um programa para o Boletim de notas do aluno. Guarde o nome do aluno, as notas e calcule a media final\n",
    "  do aluno. \n",
    "\n",
    "- Disciplina:\n",
    "      \n",
    "  - Matemática\n",
    "  - Português\n",
    "  - Geografia\n",
    "  - História\n",
    "  - Física\n",
    "\n",
    "- Ao obter as notas e a media das notas,imprima o boletim do aluno informando as notas das materias e com\n",
    " quanto ele ficou de media.\n"
   ]
  },
  {
   "cell_type": "code",
   "execution_count": 13,
   "metadata": {},
   "outputs": [
    {
     "name": "stdout",
     "output_type": "stream",
     "text": [
      "------------------------------ Boletim Escolar ------------------------------\n",
      "Nome do aluno:  Pedro Jeronimo\n",
      "NOTAS \n",
      "Matematica: 8.0\n",
      "Português:  8.0\n",
      "Geagrafia:  10.0\n",
      "Historia:   9.0\n",
      "Fisíca:     6.0\n",
      "Media:      8.20\n",
      "------------------------------------------------------------\n"
     ]
    }
   ],
   "source": [
    "nome = input(\"Digite o nome do aluno \")\n",
    "notaMat = input(\"Digite a nota de MATEMATICA \")\n",
    "notaPort = input(\"Digite a nota de PORTUGUÊS \")\n",
    "notaGeo = input(\"Digite a nota de GEAGRAFIA \")\n",
    "notaHist = input(\"Digite a nota de HISTORIA \")\n",
    "notaFis = input(\"Digite a nota de FISÍCA \")\n",
    "\n",
    "notaMat = float(notaMat)\n",
    "notaPort = float(notaPort)\n",
    "notaGeo = float(notaGeo)\n",
    "notaHist = float(notaHist)\n",
    "notaFis = float(notaFis)\n",
    "\n",
    "media = (notaMat+notaPort+notaGeo+notaHist+notaFis)/5\n",
    "\n",
    "print(30*\"-\", \"Boletim Escolar\", 30*\"-\")\n",
    "print(\"Nome do aluno: \",nome)\n",
    "print(\"NOTAS \")\n",
    "print(\"Matematica:\" ,notaMat)\n",
    "print(\"Português: \"  ,notaPort)\n",
    "print(\"Geagrafia: \"  ,notaGeo)\n",
    "print(\"Historia:  \"   ,notaHist)\n",
    "print(\"Fisíca:    \"  ,notaFis)\n",
    "print(f\"Media:      {media:.2f}\")\n",
    "print(60*\"-\" )"
   ]
  }
 ],
 "metadata": {
  "kernelspec": {
   "display_name": ".venv",
   "language": "python",
   "name": "python3"
  },
  "language_info": {
   "codemirror_mode": {
    "name": "ipython",
    "version": 3
   },
   "file_extension": ".py",
   "mimetype": "text/x-python",
   "name": "python",
   "nbconvert_exporter": "python",
   "pygments_lexer": "ipython3",
   "version": "3.12.4"
  }
 },
 "nbformat": 4,
 "nbformat_minor": 2
}
